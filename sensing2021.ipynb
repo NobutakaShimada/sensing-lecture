{
  "nbformat": 4,
  "nbformat_minor": 5,
  "metadata": {
    "kernelspec": {
      "display_name": "Python 3 (ipykernel)",
      "language": "python",
      "name": "python3"
    },
    "language_info": {
      "codemirror_mode": {
        "name": "ipython",
        "version": 3
      },
      "file_extension": ".py",
      "mimetype": "text/x-python",
      "name": "python",
      "nbconvert_exporter": "python",
      "pygments_lexer": "ipython3",
      "version": "3.9.7"
    },
    "colab": {
      "name": "sensing2021.ipynb",
      "provenance": [],
      "collapsed_sections": [],
      "include_colab_link": true
    }
  },
  "cells": [
    {
      "cell_type": "markdown",
      "metadata": {
        "id": "view-in-github",
        "colab_type": "text"
      },
      "source": [
        "<a href=\"https://colab.research.google.com/github/NobutakaShimada/sensing-lecture/blob/main/sensing2021.ipynb\" target=\"_parent\"><img src=\"https://colab.research.google.com/assets/colab-badge.svg\" alt=\"Open In Colab\"/></a>"
      ]
    },
    {
      "cell_type": "markdown",
      "metadata": {
        "id": "c7ff84b4"
      },
      "source": [
        "## センシング工学第11回 最小二乗法(4)"
      ],
      "id": "c7ff84b4"
    },
    {
      "cell_type": "markdown",
      "metadata": {
        "id": "b618ba12"
      },
      "source": [
        "前回までで最尤推定、最小二乗法による直線当てはめ、共分散・相関を考慮した誤差伝播則について学んだ。今回はpython/numpy/mapplotlibによるデータ処理の演習を行う。"
      ],
      "id": "b618ba12"
    },
    {
      "cell_type": "markdown",
      "metadata": {
        "id": "5IoSZvzb_pIH"
      },
      "source": [
        ""
      ],
      "id": "5IoSZvzb_pIH"
    },
    {
      "cell_type": "markdown",
      "metadata": {
        "id": "6400ffcc"
      },
      "source": [
        "### numpyの基礎"
      ],
      "id": "6400ffcc"
    },
    {
      "cell_type": "code",
      "metadata": {
        "id": "60154907"
      },
      "source": [
        "# matplot.pyplotでグラフやプロットの描画\n",
        "import matplotlib.pyplot as plt\n",
        "# numpyで数値や行列、基本的な統計処理をする\n",
        "import numpy as np"
      ],
      "id": "60154907",
      "execution_count": 110,
      "outputs": []
    },
    {
      "cell_type": "code",
      "metadata": {
        "id": "85886d4c",
        "colab": {
          "base_uri": "https://localhost:8080/"
        },
        "outputId": "5a9817e2-2d0b-4582-c252-8584fff8ac76"
      },
      "source": [
        "# np.arrayの練習\n",
        "# これはpythonのlist型\n",
        "a = [1,2,3]\n",
        "print(a)\n",
        "print(type(a))\n"
      ],
      "id": "85886d4c",
      "execution_count": 111,
      "outputs": [
        {
          "output_type": "stream",
          "name": "stdout",
          "text": [
            "[1, 2, 3]\n",
            "<class 'list'>\n"
          ]
        }
      ]
    },
    {
      "cell_type": "code",
      "metadata": {
        "id": "99e7dba6",
        "colab": {
          "base_uri": "https://localhost:8080/"
        },
        "outputId": "3a956ef8-e0ea-4617-aee9-ef9fc19ef207"
      },
      "source": [
        "# numpyのarray型\n",
        "b = np.array(a)\n",
        "print(b)\n",
        "print(type(b))"
      ],
      "id": "99e7dba6",
      "execution_count": 112,
      "outputs": [
        {
          "output_type": "stream",
          "name": "stdout",
          "text": [
            "[1 2 3]\n",
            "<class 'numpy.ndarray'>\n"
          ]
        }
      ]
    },
    {
      "cell_type": "code",
      "metadata": {
        "id": "cd3acf02",
        "colab": {
          "base_uri": "https://localhost:8080/"
        },
        "outputId": "2f7b42fd-96f4-438c-d26f-8df02c8f25e6"
      },
      "source": [
        "c = np.array([0,-2,4])\n",
        "b + c # 要素ごとに足し算できる"
      ],
      "id": "cd3acf02",
      "execution_count": 113,
      "outputs": [
        {
          "output_type": "execute_result",
          "data": {
            "text/plain": [
              "array([1, 0, 7])"
            ]
          },
          "metadata": {},
          "execution_count": 113
        }
      ]
    },
    {
      "cell_type": "code",
      "metadata": {
        "id": "6b186751",
        "colab": {
          "base_uri": "https://localhost:8080/"
        },
        "outputId": "e61a45c6-a056-4eb8-c587-c7d332d0ad1e"
      },
      "source": [
        "b*c # 要素ごとに掛け算もできる。"
      ],
      "id": "6b186751",
      "execution_count": 114,
      "outputs": [
        {
          "output_type": "execute_result",
          "data": {
            "text/plain": [
              "array([ 0, -4, 12])"
            ]
          },
          "metadata": {},
          "execution_count": 114
        }
      ]
    },
    {
      "cell_type": "code",
      "metadata": {
        "id": "1a4258fc",
        "colab": {
          "base_uri": "https://localhost:8080/"
        },
        "outputId": "b8953c36-96cd-465d-ea11-4555142d861f"
      },
      "source": [
        "b**2,np.sqrt(b) # 要素ごとの累乗,平方根"
      ],
      "id": "1a4258fc",
      "execution_count": 115,
      "outputs": [
        {
          "output_type": "execute_result",
          "data": {
            "text/plain": [
              "(array([1, 4, 9]), array([1.        , 1.41421356, 1.73205081]))"
            ]
          },
          "metadata": {},
          "execution_count": 115
        }
      ]
    },
    {
      "cell_type": "code",
      "metadata": {
        "scrolled": true,
        "id": "814ab080",
        "colab": {
          "base_uri": "https://localhost:8080/"
        },
        "outputId": "56e6eee9-33ab-4f71-fdf8-9671f82892b8"
      },
      "source": [
        "np.dot(b,c) # ベクトルだと思って内積を取る"
      ],
      "id": "814ab080",
      "execution_count": 116,
      "outputs": [
        {
          "output_type": "execute_result",
          "data": {
            "text/plain": [
              "8"
            ]
          },
          "metadata": {},
          "execution_count": 116
        }
      ]
    },
    {
      "cell_type": "code",
      "metadata": {
        "id": "34ddcf7e",
        "colab": {
          "base_uri": "https://localhost:8080/"
        },
        "outputId": "88eb243d-0ee3-4b09-c996-83f8a3a41ded"
      },
      "source": [
        "M = np.array([[1,2,3],[3,2,1]]) # 2x3行列\n",
        "M"
      ],
      "id": "34ddcf7e",
      "execution_count": 117,
      "outputs": [
        {
          "output_type": "execute_result",
          "data": {
            "text/plain": [
              "array([[1, 2, 3],\n",
              "       [3, 2, 1]])"
            ]
          },
          "metadata": {},
          "execution_count": 117
        }
      ]
    },
    {
      "cell_type": "code",
      "metadata": {
        "scrolled": true,
        "id": "293d75d0",
        "colab": {
          "base_uri": "https://localhost:8080/"
        },
        "outputId": "67926142-6cb6-474a-d386-7995c1cddb4e"
      },
      "source": [
        "v = np.array([2,-1,3])\n",
        "M@v # 行列の積"
      ],
      "id": "293d75d0",
      "execution_count": 118,
      "outputs": [
        {
          "output_type": "execute_result",
          "data": {
            "text/plain": [
              "array([9, 7])"
            ]
          },
          "metadata": {},
          "execution_count": 118
        }
      ]
    },
    {
      "cell_type": "code",
      "metadata": {
        "id": "48ccaac5",
        "colab": {
          "base_uri": "https://localhost:8080/"
        },
        "outputId": "c2709692-e6b6-48e3-cbfb-7285b35e3a57"
      },
      "source": [
        "M*v # *だと要素ごとの積を取ってしまう"
      ],
      "id": "48ccaac5",
      "execution_count": 119,
      "outputs": [
        {
          "output_type": "execute_result",
          "data": {
            "text/plain": [
              "array([[ 2, -2,  9],\n",
              "       [ 6, -2,  3]])"
            ]
          },
          "metadata": {},
          "execution_count": 119
        }
      ]
    },
    {
      "cell_type": "code",
      "metadata": {
        "id": "Amg17UzTDDCQ"
      },
      "source": [
        ""
      ],
      "id": "Amg17UzTDDCQ",
      "execution_count": 119,
      "outputs": []
    },
    {
      "cell_type": "code",
      "metadata": {
        "id": "pSTOzbNdC_Dj"
      },
      "source": [
        ""
      ],
      "id": "pSTOzbNdC_Dj",
      "execution_count": 119,
      "outputs": []
    },
    {
      "cell_type": "markdown",
      "metadata": {
        "id": "fc0b90be"
      },
      "source": [
        "### データプロットと回帰"
      ],
      "id": "fc0b90be"
    },
    {
      "cell_type": "code",
      "metadata": {
        "id": "000792a2"
      },
      "source": [
        "x = np.array([1,2,3,4,5]).astype(float)\n",
        "y = np.array([4,2,1,2,0]).astype(float)"
      ],
      "id": "000792a2",
      "execution_count": 120,
      "outputs": []
    },
    {
      "cell_type": "code",
      "metadata": {
        "id": "76890d81",
        "colab": {
          "base_uri": "https://localhost:8080/"
        },
        "outputId": "a1996401-0118-4249-fa56-d1cb1c1b93a4"
      },
      "source": [
        "### print(len(x),len(y))\n",
        "print(\"x=%s y=%s\"%(x,y))"
      ],
      "id": "76890d81",
      "execution_count": 121,
      "outputs": [
        {
          "output_type": "stream",
          "name": "stdout",
          "text": [
            "x=[1. 2. 3. 4. 5.] y=[4. 2. 1. 2. 0.]\n"
          ]
        }
      ]
    },
    {
      "cell_type": "code",
      "metadata": {
        "id": "7691b053",
        "colab": {
          "base_uri": "https://localhost:8080/",
          "height": 279
        },
        "outputId": "bb79fa3d-fdb8-41ed-c4dd-197b87c3cda9"
      },
      "source": [
        "plt.scatter(x,y,marker='.',color=\"blue\")\n",
        "plt.xlabel('x')\n",
        "plt.ylabel('y')\n",
        "plt.show()"
      ],
      "id": "7691b053",
      "execution_count": 122,
      "outputs": [
        {
          "output_type": "display_data",
          "data": {
            "image/png": "[encoded data removed]",
            "text/plain": [
              "<Figure size 432x288 with 1 Axes>"
            ]
          },
          "metadata": {
            "needs_background": "light"
          }
        }
      ]
    },
    {
      "cell_type": "markdown",
      "metadata": {
        "id": "19175b19"
      },
      "source": [
        "## 最小二乗法による直線当てはめ y=A+Bx\n",
        "正規方程式\n",
        "\\begin{eqnarray}\n",
        "AN+B\\sum x &=& \\sum y \\\\\n",
        "A\\sum x + B\\sum x^2 &=& \\sum xy\n",
        "\\end{eqnarray}\n",
        "これを解くと\n",
        "\\begin{eqnarray}\n",
        "A &=& \\frac{(\\sum x^2)(\\sum y)-(\\sum x)(\\sum xy)}{\\Delta}, \\,\\,\\,\n",
        "B &=& \\frac{(\\sum x)(\\sum y)-N(\\sum xy)}{\\Delta}\\\\\n",
        "\\Delta &=& N\\sum x^2 - (\\sum x)^2\n",
        "\\end{eqnarray}\n",
        "AとBの推定誤差の分散は\n",
        "\\begin{eqnarray}\n",
        "\\sigma_A &=& \\sigma_y\\sqrt{\\frac{\\sum x^2}{\\Delta}}, \\,\\,\\,\n",
        "\\sigma_B = \\sigma_y\\sqrt{\\frac{N}{\\Delta}} \\\\\n",
        "\\sigma_y &=& \\sqrt{\\frac{1}{N-2}\\sum (y-A-Bx)^2}\n",
        "\\end{eqnarray}"
      ],
      "id": "19175b19"
    },
    {
      "cell_type": "code",
      "metadata": {
        "id": "4d42a624",
        "colab": {
          "base_uri": "https://localhost:8080/"
        },
        "outputId": "2e12a94c-ab56-478f-9676-728b68f1d2e6"
      },
      "source": [
        "# 最小二乗法による直線当てはめ y=A+Bx\n",
        "def fit_line(x,y):\n",
        "  if len(x) != len(y):\n",
        "      print(\"xとyのデータ数が違うよ！\")\n",
        "      exit\n",
        "  N = len(x)\n",
        "  sum_x = np.sum(x)\n",
        "  sum_y = np.sum(y)\n",
        "  sum_xx = np.sum(x**2)\n",
        "  sum_xy = np.sum(x*y)\n",
        "  Delta = N*sum_xx-(sum_x)**2\n",
        "  print(\"N=%f sum(x)=%f sum(y)=%f sum(x^2)=%f sum(xy)=%f,Delta=%f\"%(N,sum_x,sum_y,sum_xx,sum_xy,Delta))\n",
        "  A = (sum_xx*sum_y-sum_x*sum_xy)/Delta\n",
        "  B = (N*sum_xy-sum_x*sum_y)/Delta\n",
        "  sigma_y = np.sqrt(np.sum((y-A-B*x)**2)/(N-2))\n",
        "  sigma_A = sigma_y*np.sqrt(sum_xx/Delta)\n",
        "  sigma_B = sigma_y*np.sqrt(N/Delta)\n",
        "  return A,B,sigma_A,sigma_B,sigma_y\n",
        "\n",
        "A,B,sA,sB,sy = fit_line(x,y)\n",
        "print(\"A=%f B=%f, sigmaA=%f sigmaB=%f sigmay=%f\"%(A,B,sA,sB,sy))"
      ],
      "id": "4d42a624",
      "execution_count": 123,
      "outputs": [
        {
          "output_type": "stream",
          "name": "stdout",
          "text": [
            "N=5.000000 sum(x)=15.000000 sum(y)=9.000000 sum(x^2)=55.000000 sum(xy)=19.000000,Delta=50.000000\n",
            "A=4.200000 B=-0.800000, sigmaA=0.938083 sigmaB=0.282843 sigmay=0.894427\n"
          ]
        }
      ]
    },
    {
      "cell_type": "code",
      "metadata": {
        "id": "d8da420d",
        "colab": {
          "base_uri": "https://localhost:8080/",
          "height": 265
        },
        "outputId": "07411f61-dcc9-488a-ff30-44d0f7654c06"
      },
      "source": [
        "#(x1,y1)から(x2,y2)へ直線を描く\n",
        "#plt.plot([x1,x2],[y1,y2]) #最初にxの区間、次にyの区間であることに注意\n",
        "plt.plot([0,10],[1,5],color=\"red\")\n",
        "plt.plot([-1,7],[8,-3],color=\"green\")\n",
        "plt.show()"
      ],
      "id": "d8da420d",
      "execution_count": 124,
      "outputs": [
        {
          "output_type": "display_data",
          "data": {
            "image/png": "[encoded data removed]",
            "text/plain": [
              "<Figure size 432x288 with 1 Axes>"
            ]
          },
          "metadata": {
            "needs_background": "light"
          }
        }
      ]
    },
    {
      "cell_type": "code",
      "metadata": {
        "scrolled": true,
        "id": "20936118",
        "colab": {
          "base_uri": "https://localhost:8080/",
          "height": 282
        },
        "outputId": "fd7a17cf-3443-40c7-b058-1f41cee42e66"
      },
      "source": [
        "plt.scatter(x,y,marker='.')\n",
        "A,B,sA,sB,sy = fit_line(x,y)\n",
        "def y_est(x,A,B):\n",
        "    return A+B*x\n",
        "xmin = np.min(x)\n",
        "xmax = np.max(x)\n",
        "plt.plot([xmin,xmax],[y_est(xmin,A,B),y_est(xmax,A,B)],color=\"red\")\n",
        "plt.show()"
      ],
      "id": "20936118",
      "execution_count": 125,
      "outputs": [
        {
          "output_type": "stream",
          "name": "stdout",
          "text": [
            "N=5.000000 sum(x)=15.000000 sum(y)=9.000000 sum(x^2)=55.000000 sum(xy)=19.000000,Delta=50.000000\n"
          ]
        },
        {
          "output_type": "display_data",
          "data": {
            "image/png": "[encoded data removed]",
            "text/plain": [
              "<Figure size 432x288 with 1 Axes>"
            ]
          },
          "metadata": {
            "needs_background": "light"
          }
        }
      ]
    },
    {
      "cell_type": "markdown",
      "metadata": {
        "id": "a3542586"
      },
      "source": [
        "### ライブラリモジュールを使った最小二乗法"
      ],
      "id": "a3542586"
    },
    {
      "cell_type": "code",
      "metadata": {
        "id": "048da447",
        "colab": {
          "base_uri": "https://localhost:8080/",
          "height": 282
        },
        "outputId": "6d1d9b26-fe56-4447-d801-c898766a8cc0"
      },
      "source": [
        "# np.polyfit(x,y,dim) # y=f(x;p)(fは次数dimの回帰多項式、pは回帰多項式の係数)\n",
        "# 返り値はnp.ndarray(1次元)。高い次数の係数から並ぶのでpred[0]が1次、pred[1]が0次の係数\n",
        "pred = np.polyfit(x,y,1)\n",
        "print(pred)\n",
        "plt.scatter(x,y,marker='.')\n",
        "xmin = np.min(x)\n",
        "xmax = np.max(x)\n",
        "plt.plot([xmin,xmax],[y_est(xmin,A,B),y_est(xmax,A,B)],color=\"red\")\n",
        "plt.plot([xmin,xmax],[y_est(xmin,A,B),y_est(xmax,pred[1],pred[0])],color=\"green\")\n",
        "plt.show()"
      ],
      "id": "048da447",
      "execution_count": 126,
      "outputs": [
        {
          "output_type": "stream",
          "name": "stdout",
          "text": [
            "[-0.8  4.2]\n"
          ]
        },
        {
          "output_type": "display_data",
          "data": {
            "image/png": "[encoded data removed]",
            "text/plain": [
              "<Figure size 432x288 with 1 Axes>"
            ]
          },
          "metadata": {
            "needs_background": "light"
          }
        }
      ]
    },
    {
      "cell_type": "code",
      "metadata": {
        "id": "45da13a6",
        "colab": {
          "base_uri": "https://localhost:8080/",
          "height": 279
        },
        "outputId": "6ddd43ba-af95-41ff-b8fd-20af48f8cde0"
      },
      "source": [
        "# 2次式以上でフィッティングしてみる\n",
        "def polynomial_fit(x,y,maxdim=4,xlim=[],ylim=[]):\n",
        "  cmap = plt.get_cmap(\"tab10\") #色のindexを並べたcolormapを取得\n",
        "  pred = []\n",
        "  for dim in range(maxdim):\n",
        "    #dim次元の多項式で最小二乗法。\n",
        "    #cov=Trueの時は(推定値、共分散行列)のタプルが帰る\n",
        "    pred.append(np.polyfit(x,y,dim,cov=True))\n",
        "    #print(\"dim[%d]: %s\"%(dim,pred))\n",
        "\n",
        "  plt.scatter(x,y,marker='.')\n",
        "  if xlim == []:\n",
        "    xmin = np.min(x)\n",
        "    xmax = np.max(x)\n",
        "  else:\n",
        "    xmin = xlim[0]\n",
        "    xmax = xlim[1]\n",
        "\n",
        "  xs = np.linspace(xmin, xmax, 100)\n",
        "  plt.xlabel(\"x\")\n",
        "  plt.ylabel('y')\n",
        "  plt.ylim(*ylim)\n",
        "  for dim in range(maxdim):\n",
        "    # polyval(p,x): 多項式の係数がpであるときにxに対する式の値を返す。\n",
        "    plt.plot(xs,np.polyval(pred[dim][0],xs),label='%d-dim'%dim,color=cmap(dim))\n",
        "    \n",
        "\n",
        "  plt.legend()\n",
        "  return pred\n",
        "    \n",
        "pred = polynomial_fit(x,y)"
      ],
      "id": "45da13a6",
      "execution_count": 127,
      "outputs": [
        {
          "output_type": "display_data",
          "data": {
            "image/png": "[encoded data removed]",
            "text/plain": [
              "<Figure size 432x288 with 1 Axes>"
            ]
          },
          "metadata": {
            "needs_background": "light"
          }
        }
      ]
    },
    {
      "cell_type": "code",
      "metadata": {
        "id": "9b08302b",
        "colab": {
          "base_uri": "https://localhost:8080/"
        },
        "outputId": "7e8e5c41-2fab-4273-e311-930492a1d1cc"
      },
      "source": [
        "pred[0] #0次式でのフィッティングにおける推定値（平均）と推定誤差の分散"
      ],
      "id": "9b08302b",
      "execution_count": 128,
      "outputs": [
        {
          "output_type": "execute_result",
          "data": {
            "text/plain": [
              "(array([1.8]), array([[0.44]]))"
            ]
          },
          "metadata": {},
          "execution_count": 128
        }
      ]
    },
    {
      "cell_type": "code",
      "metadata": {
        "id": "929ed658",
        "colab": {
          "base_uri": "https://localhost:8080/"
        },
        "outputId": "ea5fe6c5-222b-446a-aab1-9efff1e82ae1"
      },
      "source": [
        "pred[1] #1次式でのフィッティングにおける推定値（A=p[1],B=p[0]）と推定誤差の共分散"
      ],
      "id": "929ed658",
      "execution_count": 129,
      "outputs": [
        {
          "output_type": "execute_result",
          "data": {
            "text/plain": [
              "(array([-0.8,  4.2]), array([[ 0.08, -0.24],\n",
              "        [-0.24,  0.88]]))"
            ]
          },
          "metadata": {},
          "execution_count": 129
        }
      ]
    },
    {
      "cell_type": "code",
      "metadata": {
        "id": "c0907087",
        "colab": {
          "base_uri": "https://localhost:8080/"
        },
        "outputId": "d036617c-da11-45b3-9ec1-f0b54b655d1e"
      },
      "source": [
        "pred[2] #2次式でのフィッティングにおける推定値（平均）と誤差の分散"
      ],
      "id": "c0907087",
      "execution_count": 130,
      "outputs": [
        {
          "output_type": "execute_result",
          "data": {
            "text/plain": [
              "(array([ 0.14285714, -1.65714286,  5.2       ]),\n",
              " array([[ 0.0755102 , -0.45306122,  0.52857143],\n",
              "        [-0.45306122,  2.82408163, -3.48857143],\n",
              "        [ 0.52857143, -3.48857143,  4.86285714]]))"
            ]
          },
          "metadata": {},
          "execution_count": 130
        }
      ]
    },
    {
      "cell_type": "markdown",
      "metadata": {
        "id": "718f1ca4"
      },
      "source": [
        "当てはめる多項式の次数が増えるに従って、返ってくる多項式のパラメータと共分散行列の次数はどうなっていますか？"
      ],
      "id": "718f1ca4"
    },
    {
      "cell_type": "markdown",
      "metadata": {
        "id": "5d169399"
      },
      "source": [
        "### もっと多くのデータサンプルについて回帰してみる練習"
      ],
      "id": "5d169399"
    },
    {
      "cell_type": "markdown",
      "metadata": {
        "id": "b8ea0772"
      },
      "source": [
        "ランダムノイズが加わったデータを作って、polyfitを使って多項式を回帰してみてください。"
      ],
      "id": "b8ea0772"
    },
    {
      "cell_type": "code",
      "metadata": {
        "id": "9b49226e"
      },
      "source": [
        "# 真のデータを生成するモデル\n",
        "def model_func(x):\n",
        "    #return x**3-4*x**2-4\n",
        "    return 5*x-10"
      ],
      "id": "9b49226e",
      "execution_count": 131,
      "outputs": []
    },
    {
      "cell_type": "code",
      "metadata": {
        "id": "d23f807b",
        "colab": {
          "base_uri": "https://localhost:8080/",
          "height": 283
        },
        "outputId": "915affda-1ba4-4d5d-8160-e46c55d6f712"
      },
      "source": [
        "# モデル曲線の描画\n",
        "xtrue = np.linspace(-5,10,100)\n",
        "ytrue = model_func(xtrue)\n",
        "plt.plot(xtrue,ytrue,label=\"model\",color=\"black\")\n",
        "\n",
        "# 真のデータ点の生成（スパースにとる）\n",
        "x2 = np.linspace(-2,5,20)\n",
        "y2 = model_func(x2)\n",
        "# ノイズの乗ったデータ点の生成\n",
        "ynoise = np.random.normal(0,10,len(x2)) # 平均0、分散3の正規分布からの独立サンプル\n",
        "y2_noise = y2 + ynoise\n",
        "plt.ylim(-40,40)\n",
        "plt.xlabel('x')\n",
        "plt.ylabel('y')\n",
        "#plt.plot(x2,y2_noise,'.',color=\"blue\")\n",
        "plt.scatter(x2,y2_noise,marker='.')\n",
        "plt.legend()\n",
        "plt.show()"
      ],
      "id": "d23f807b",
      "execution_count": 132,
      "outputs": [
        {
          "output_type": "display_data",
          "data": {
            "image/png": "[encoded data removed]",
            "text/plain": [
              "<Figure size 432x288 with 1 Axes>"
            ]
          },
          "metadata": {
            "needs_background": "light"
          }
        }
      ]
    },
    {
      "cell_type": "code",
      "metadata": {
        "id": "4d1f4cb1",
        "colab": {
          "base_uri": "https://localhost:8080/",
          "height": 328
        },
        "outputId": "d7e4ea1e-fb08-4318-dad2-48c4aa73aca3"
      },
      "source": [
        "pred = polynomial_fit(x2,y2_noise,maxdim=19,xlim=[-5,10],ylim=[-40,40])"
      ],
      "id": "4d1f4cb1",
      "execution_count": 133,
      "outputs": [
        {
          "output_type": "display_data",
          "data": {
            "image/png": "[encoded data removed]",
            "text/plain": [
              "<Figure size 432x288 with 1 Axes>"
            ]
          },
          "metadata": {
            "needs_background": "light"
          }
        }
      ]
    },
    {
      "cell_type": "markdown",
      "metadata": {
        "id": "78427c53"
      },
      "source": [
        "フィットする多項式の次数(maxdim)を増やしていくと推定した曲線はどうなるか確認しよう。\n",
        "データ点数が20点なら19次まで形式的には当てはめることができる。その結果は妥当だろうか？"
      ],
      "id": "78427c53"
    },
    {
      "cell_type": "markdown",
      "metadata": {
        "id": "6a8632cc"
      },
      "source": [
        "### 当てはめた直線の誤差を可視化しよう"
      ],
      "id": "6a8632cc"
    },
    {
      "cell_type": "markdown",
      "metadata": {
        "id": "251218d0"
      },
      "source": [
        "講義では$y=A+Bx$の当てはめにおいて、Aの推定値の推定誤差の分散$\\sigma_A^2,Bに対する\\sigma_B^2$のみ導出したが、上の計算でdim=1の場合のpolyfitの返り値は2x2の対称行列になっている。対角成分はそれぞれ$\\sigma_A^2$と$\\sigma_B^2$に対応するがそうでない成分はなんだろうか？実はこれは$A$の推定誤差と$B$の推定誤差の「共分散」$\\sigma_{AB}$である。"
      ],
      "id": "251218d0"
    },
    {
      "cell_type": "markdown",
      "metadata": {
        "id": "9a959447"
      },
      "source": [
        "すなわち、$A$と$B$の推定値は必ずしも無相関ではない。$\\sigma_{AB}\\neq 0$の場合はAの誤差とBの誤差には関係が出てくる。この共分散の導出方法は授業ではまだ述べていなかった。次の補足資料を読むとある程度理解できるだろう。\n",
        "https://ritsumei365-my.sharepoint.com/:b:/g/personal/nshimada_is_ritsumei_ac_jp/EdUdv_8IcNdLj_WKfDt4H08BH-s8jKhgRnzcMZVVdjz6Ug?e=9fVy5I"
      ],
      "id": "9a959447"
    },
    {
      "cell_type": "markdown",
      "metadata": {
        "id": "4253cc86"
      },
      "source": [
        "AとBが$\\sigma_A^2$,$\\sigma_B^2$,$\\sigma_{AB}$の分散・共分散をもつ誤差を含む場合、$y=A+Bx$による$y$の推定値$\\hat{y}$の誤差の分散($\\sigma^2_{\\hat{y}}$)を誤差が独立ではない場合の誤差伝播則を用いて計算すると(xの誤差は独立変数なので0とする)、\n",
        "\\begin{eqnarray}\n",
        "\\sigma^2_{\\hat{y}} &=& \\left(\\frac{\\partial y}{\\partial A}\\right)^2\\sigma_A^2+\\left(\\frac{\\partial y}{\\partial B}\\right)^2\\sigma_B^2+2\\frac{\\partial y}{\\partial A}\\frac{\\partial y}{\\partial B}\\sigma_{AB} \\\\\n",
        "&=& \\sigma^2_Bx^2+2\\sigma_{AB}x+\\sigma^2_A\\\\\n",
        "\\,\n",
        "\\end{eqnarray}\n",
        "これはxの二次関数である。$y$の真の値は誤差の標準偏差$\\sigma_{\\hat{y}}$を考慮して$\\hat{y}\\pm2\\sigma_{\\hat{y}}$の間95\\%の確率で入ってくると考えることは妥当である。"
      ],
      "id": "4253cc86"
    },
    {
      "cell_type": "markdown",
      "metadata": {
        "id": "e791c005"
      },
      "source": [
        "そこで、この値をデータに対してplotしてみることにしよう。$x$ごとの$y\\pm2\\sigma_{\\hat{y}}$を同時に描いてみればよい。"
      ],
      "id": "e791c005"
    },
    {
      "cell_type": "code",
      "metadata": {
        "id": "07703880",
        "colab": {
          "base_uri": "https://localhost:8080/"
        },
        "outputId": "3339a213-800a-431f-ec45-539e89020a6b"
      },
      "source": [
        "# A,Bの分散、共分散を取り出す\n",
        "p_linear = pred[1][0] # 1次式での回帰パラメータ\n",
        "sA2 = pred[1][1][1,1] # sigma^2_A\n",
        "sB2 = pred[1][1][0,0] # sigma^2_B\n",
        "sAB = pred[1][1][0,1] # sigma_AB, pred[1][1][1,0]でもよい（共分散行列は対称なので）\n",
        "sA2,sB2,sAB"
      ],
      "id": "07703880",
      "execution_count": 134,
      "outputs": [
        {
          "output_type": "execute_result",
          "data": {
            "text/plain": [
              "(9.441120316921129, 1.395963315342425, -2.0939449730136364)"
            ]
          },
          "metadata": {},
          "execution_count": 134
        }
      ]
    },
    {
      "cell_type": "code",
      "metadata": {
        "id": "23b1eb17",
        "colab": {
          "base_uri": "https://localhost:8080/",
          "height": 283
        },
        "outputId": "c9530fd5-4796-4398-907d-b7ff838e4dba"
      },
      "source": [
        "# yの推定誤差を考慮して推定直線の上下に68%信頼区間を描画してみる\n",
        "sigma2_yhat = xtrue**2*sB2+2*xtrue*sAB+sA2 #sigmaはscalarだがxsは1次元のnp.array\n",
        "s_yhat = np.sqrt(sigma2_yhat)\n",
        "plt.plot(xtrue,ytrue,label='model',color=\"black\")\n",
        "\n",
        "yhat = np.polyval(p_linear,xtrue)\n",
        "plt.plot(xtrue,yhat,label='y_hat',color='green')\n",
        "plt.plot(xtrue,yhat+2*s_yhat,label='+2sigma',color=\"red\")\n",
        "plt.plot(xtrue,yhat-2*s_yhat,label='-2sigma',color=\"blue\")\n",
        "plt.ylim(-40,40)\n",
        "plt.xlabel('x')\n",
        "plt.ylabel('y')\n",
        "plt.legend()\n",
        "\n",
        "# データ\n",
        "plt.scatter(x2,y2_noise,marker='.')\n",
        "plt.show()"
      ],
      "id": "23b1eb17",
      "execution_count": 135,
      "outputs": [
        {
          "output_type": "display_data",
          "data": {
            "image/png": "[encoded data removed]",
            "text/plain": [
              "<Figure size 432x288 with 1 Axes>"
            ]
          },
          "metadata": {
            "needs_background": "light"
          }
        }
      ]
    },
    {
      "cell_type": "markdown",
      "metadata": {
        "id": "95d29565"
      },
      "source": [
        "上の黒の直線がデータを生成したモデルである（つまり真の直線）。緑ラインは線形回帰によって当てはめた直線（最小二乗法によって最尤推定されたもの）。赤と青のラインは、得られたデータから推定された、真の$y$が約95\\%の確率で入る区間の上限と下限（$\\hat{y}\\pm2\\sigma_{\\hat{y}}$）である。"
      ],
      "id": "95d29565"
    },
    {
      "cell_type": "markdown",
      "metadata": {
        "id": "c9f18abb"
      },
      "source": [
        "これをみると、$\\hat{y}$の誤差（つまり赤と青のラインのy方向への間隔）が最小なのはデータ点の$x$座標の平均の位置であることがわかる。その時推定された回帰直線はデータ点の$y$の平均$(x,y)$の重心を通ることもわかる（簡単に証明できるが各自の課題とする）。重心の位置における$\\hat{y}$の誤差の大きさは直線の切片パラメータ（つまり$A$）の誤差と等しい。"
      ],
      "id": "c9f18abb"
    },
    {
      "cell_type": "markdown",
      "metadata": {
        "id": "94464983"
      },
      "source": [
        "さらにわかることはデータ点の$x$の平均から離れるに従って$\\hat{y}$の誤差は大きくなることがわかる。これは直線の傾き$B$が持つ誤差によって直線が回転する方向に不確かだということを意味している。回帰直線は必ずデータの重心を通るからここを中心に回転することになるわけで、重心から離れるに従って直線上の点（つまり$x$に対応する$y$の推定値）が大きく動くことになる。これは「外挿」が「内挿」よりも不確かになる、という我々の経験的事実と合致している。"
      ],
      "id": "94464983"
    },
    {
      "cell_type": "markdown",
      "metadata": {
        "id": "8b047c6a"
      },
      "source": [
        "Pythonではnumpyの他にさまざまな統計解析モジュールパッケージが公開されており、機械学習用のパッケージに含まれていることもある。また描画に使ったpyplotはmatplotlibという可視化パッケージの一部であり、この他にも3次元プロットやアニメーションなど数多くの機能を持っている。ぜひ自分でも試してみてほしい。"
      ],
      "id": "8b047c6a"
    },
    {
      "cell_type": "code",
      "metadata": {
        "id": "515feb90"
      },
      "source": [
        ""
      ],
      "id": "515feb90",
      "execution_count": null,
      "outputs": []
    }
  ]
}